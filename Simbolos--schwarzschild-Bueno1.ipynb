{
 "cells": [
  {
   "cell_type": "code",
   "execution_count": 1,
   "id": "812a2250-2b60-4f94-b439-3147c4d436a2",
   "metadata": {},
   "outputs": [
    {
     "name": "stderr",
     "output_type": "stream",
     "text": [
      "<frozen importlib._bootstrap>:219: RuntimeWarning: scipy._lib.messagestream.MessageStream size changed, may indicate binary incompatibility. Expected 56 from C header, got 64 from PyObject\n"
     ]
    }
   ],
   "source": [
    "from sympy import *\n",
    "import copy\n",
    "from scipy.integrate import odeint\n",
    "import numpy as np\n",
    "import matplotlib.pyplot as plt\n",
    "import mpl_toolkits.mplot3d.axes3d as axes3d\n",
    "\n",
    "#Definiciones\n",
    "M,t,r,theta,phi ,e,G,c = symbols('M t r theta phi e G c')\n",
    "x,y,z = symbols('x y z')\n",
    "v=Function('v')(t)\n",
    "#define the coordinates\n",
    "coord = [t,x,y,z ]\n",
    "coord_pol=[t,r,theta,phi]\n",
    "coord_nombres = [\"t\",\"r\",\"\\theta\",\"\\phi\"]\n",
    "I2=eye(4)\n",
    "I3=eye(4)\n",
    "\n",
    "I3[0,0]=-1\n",
    "\n",
    "\n",
    "#Orden hasta la que realizar la expansión en serie en términos de velocidad\n",
    "orden=4\n",
    "orden+=1\n",
    "\n",
    "if orden %2 ==0:\n",
    "    orden_par=orden\n",
    "else:\n",
    "    orden_par=orden+1\n",
    "    \n",
    "G=zeros(4)\n",
    "def delta_dirac(i,j):\n",
    "    if i==j:\n",
    "        return 1\n",
    "    else:\n",
    "        return 0"
   ]
  },
  {
   "cell_type": "code",
   "execution_count": 3,
   "id": "2d44cee8-75ac-413b-8352-0c30c5ebfb10",
   "metadata": {},
   "outputs": [
    {
     "data": {
      "text/latex": [
       "$\\displaystyle \\left[\\begin{matrix}- c^{2} + \\frac{2 e^{2}}{r} & 0 & 0 & 0\\\\0 & \\frac{4 e^{4}}{c^{4} r^{2}} + \\frac{2 e^{2}}{c^{2} r} + 1 + O\\left(e^{5}\\right) & 0 & 0\\\\0 & 0 & r^{2} & 0\\\\0 & 0 & 0 & r^{2} \\sin^{2}{\\left(\\theta \\right)}\\end{matrix}\\right]$"
      ],
      "text/plain": [
       "Matrix([\n",
       "[-c**2 + 2*e**2/r,                                                  0,    0,                  0],\n",
       "[               0, 4*e**4/(c**4*r**2) + 2*e**2/(c**2*r) + 1 + O(e**5),    0,                  0],\n",
       "[               0,                                                  0, r**2,                  0],\n",
       "[               0,                                                  0,    0, r**2*sin(theta)**2]])"
      ]
     },
     "execution_count": 3,
     "metadata": {},
     "output_type": "execute_result"
    }
   ],
   "source": [
    "#Definición de los coeficientes de la métrica como funciones\n",
    "S=zeros(4)\n",
    "G=symbols('G')\n",
    "\n",
    "#v=symbols('v')\n",
    "v=Function('v')(r,G,M)\n",
    "S[0,0]=-c**2*(1-2*G*M/(c**2*r))\n",
    "S[1,1]=1/(1-(2*G*M)/(c**2*r))\n",
    "S[2,2]=r**2\n",
    "S[3,3]=r**2*sin(theta)**2\n",
    "\n",
    "GM=1.989*6.67*10**(19)\n",
    "\n",
    "#v=sqrt(1.989*6.67*10**(19))*e/r**0.5\n",
    "v=e/r**0.5\n",
    "\n",
    "SS=S.subs(G,v**2*r/M)\n",
    "for i in range(4):\n",
    "    for j in range(4):\n",
    "        SS[i,j]=series(SS[i,j],e,0,orden)\n",
    "       \n",
    "#SS=SS.subs(r,sqrt(x**2+y**2+z**2))\n",
    "\n",
    "for i in range(4):\n",
    "    for j in range(4):\n",
    "        exec(f\"g{i}{j}r=Function('g{i}{j}r')\") \n",
    "        exec(f\"g{i}{j}r=0\") \n",
    "        for k in range(orden):    \n",
    "            exec(f\"g{i}{j}r{k}=SS[{i},{j}].coeff(e,{k})\")\n",
    "            exec(f\"g{i}{j}r=g{i}{j}r + g{i}{j}r{k}*e**{k}\")   \n",
    "            \n",
    "\n",
    "\n",
    "for i in range(4):\n",
    "    for j in range(4):\n",
    "        I3[i,j]=SS[i,j].collect(e).coeff(e,0)\n",
    "I33=I3.inv()\n",
    "#I33[0,0]=(-1)*I33[0,0]\n",
    "SS"
   ]
  },
  {
   "cell_type": "markdown",
   "id": "cffaee5e-33dd-424b-9a1a-f1edaa03be87",
   "metadata": {},
   "source": [
    "A continuación, se trabajará exclusivamente con símbolos para, al final, sustituir lo obtenido por los coeficientes de la métrica y sus correspondientes derivadas parciales."
   ]
  },
  {
   "cell_type": "code",
   "execution_count": 5,
   "id": "fd1df7e6-9362-4804-9ad9-aede495d6cd7",
   "metadata": {},
   "outputs": [
    {
     "data": {
      "text/latex": [
       "$\\displaystyle \\left[\\begin{matrix}- c^{2} + e^{4} g^{4}_{00} + e^{2} g^{2}_{00} & e^{3} g^{3}_{01} & e^{3} g^{3}_{02} & e^{3} g^{3}_{03}\\\\e^{3} g^{3}_{01} & e^{4} g^{4}_{11} + e^{2} g^{2}_{11} + 1 & e^{4} g^{4}_{12} + e^{2} g^{2}_{12} & e^{4} g^{4}_{13} + e^{2} g^{2}_{13}\\\\e^{3} g^{3}_{02} & e^{4} g^{4}_{12} + e^{2} g^{2}_{12} & e^{4} g^{4}_{22} + e^{2} g^{2}_{22} + r^{2} & e^{4} g^{4}_{23} + e^{2} g^{2}_{23}\\\\e^{3} g^{3}_{03} & e^{4} g^{4}_{13} + e^{2} g^{2}_{13} & e^{4} g^{4}_{23} + e^{2} g^{2}_{23} & e^{4} g^{4}_{33} + e^{2} g^{2}_{33} + r^{2} \\sin^{2}{\\left(\\theta \\right)}\\end{matrix}\\right]$"
      ],
      "text/plain": [
       "Matrix([\n",
       "[-c**2 + e**4*g^4_00 + e**2*g^2_00,                   e**3*g^3_01,                      e**3*g^3_02,                                    e**3*g^3_03],\n",
       "[                      e**3*g^3_01, e**4*g^4_11 + e**2*g^2_11 + 1,        e**4*g^4_12 + e**2*g^2_12,                      e**4*g^4_13 + e**2*g^2_13],\n",
       "[                      e**3*g^3_02,     e**4*g^4_12 + e**2*g^2_12, e**4*g^4_22 + e**2*g^2_22 + r**2,                      e**4*g^4_23 + e**2*g^2_23],\n",
       "[                      e**3*g^3_03,     e**4*g^4_13 + e**2*g^2_13,        e**4*g^4_23 + e**2*g^2_23, e**4*g^4_33 + e**2*g^2_33 + r**2*sin(theta)**2]])"
      ]
     },
     "execution_count": 5,
     "metadata": {},
     "output_type": "execute_result"
    }
   ],
   "source": [
    "#Definimos como símbolos los elementos de la métrica y sus coeficientes de la expansión en serie\n",
    "for i in range(4):\n",
    "    for j in range(4):\n",
    "        exec(f\"g{i}{j}=symbols('g_{i}{j}')\")    \n",
    "        #exec(f\"g{i}{j}r=symbols('g_{i}{j}')\")    \n",
    "\n",
    "        #exec(f\"g{i}{j}r=Function('g_{i}{j}r')(t,x,y,z,v)\")    \n",
    "        exec(f\"g{i}{j}={I3[i,j]}\")        \n",
    "        for k in range(orden):\n",
    "            exec(f\"g{i}{j}{k} = symbols('g^{k}_{i}{j}')\")\n",
    "\n",
    "            #exec(f\"g{i}{j}{k}r = Function('g^{k}_{i}{j}r')(t,x,y,z,v)\")\n",
    "\n",
    "#Escribimos explícitamente la expansión en serie\n",
    "for i in range(4):\n",
    "    for j in range(i,4):       \n",
    "        for k in range(1,orden):\n",
    "            exec(f\"g{i}{j}=g{i}{j}+e**{k}*g{i}{j}{k}\")\n",
    "            #exec(f\"g{i}{j}r=g{i}{j}r+e**{k}*g{i}{j}r{k}\")\n",
    "                       \n",
    "            \n",
    "            \n",
    "            \n",
    "#Órdenes que se anulan por la naturaleza del problema\n",
    "for i in range(1,4):\n",
    "    for k in range(2,orden_par-1,2):\n",
    "        exec(f\"g0{i}=g0{i}.subs(g0{i}{k},0)\")           \n",
    "    exec(f\"g0{i}=g0{i}.subs(g0{i}1,0)\")\n",
    "for i in range(1,4):\n",
    "    for j in range(i,4):\n",
    "        for k in range(1,orden,2):\n",
    "            exec(f\"g{i}{j}=g{i}{j}.subs(g{i}{j}{k},0)\")  \n",
    "            \n",
    "            exec(f\"g00=g00.subs(g00{k},0)\")\n",
    "\n",
    "\n",
    "\n",
    "\n",
    "for i in range(4):\n",
    "    for j in range(0,i):\n",
    "        exec(f\"g{i}{j}=g{j}{i}\")\n",
    "\n",
    "        \n",
    "#Generamos la matriz de la métrica        \n",
    "G=zeros(4)\n",
    "for i in range(4):\n",
    "    for j in range(i,4):\n",
    "        exec(f\"G[{i},{j}]=g{i}{j}\")\n",
    "for i in range(4):\n",
    "    for j in range(0,i):\n",
    "        exec(f\"G[{i},{j}]=g{j}{i}\")\n",
    "        \n",
    "G\n",
    "        "
   ]
  },
  {
   "cell_type": "code",
   "execution_count": 6,
   "id": "6d613cd9-5af7-439b-a711-890f99ab9453",
   "metadata": {},
   "outputs": [],
   "source": [
    "#Definimos como símbolos los elementos de la inversa de la métrica y sus coeficientes de la expansión en serie\n",
    "for i in range(4):\n",
    "    for j in range(4):\n",
    "        exec(f\"gg{i}{j}=symbols('g^{i}{j}')\")    \n",
    "        exec(f\"gg{i}{j}r=Function('g^{i}{j}r')(t,x,y,z,v)\")    \n",
    "        exec(f\"gg{i}{j}={I33[i,j]}\")        \n",
    "        for k in range(orden):\n",
    "            exec(f\"gg{i}{j}{k} = symbols('g^{i}{j}{k}')\")\n",
    "            exec(f\"gg{i}{j}{k}r = Function('g^{i}{j}{k}r')(t,x,y,z,v)\")\n",
    "\n",
    "#Escribimos explícitamente la expansión en serie\n",
    "for i in range(4):\n",
    "    for j in range(i,4):       \n",
    "        for k in range(1,orden):\n",
    "            exec(f\"gg{i}{j}=gg{i}{j}+e**{k}*gg{i}{j}{k}\")\n",
    "            exec(f\"gg{i}{j}r=gg{i}{j}r+e**{k}*gg{i}{j}{k}r\")\n",
    "            \n",
    "            \n",
    "#Órdenes que se anulan por su naturaleza\n",
    "for i in range(1,4):\n",
    "    for k in range(2,orden-1,2):\n",
    "        exec(f\"gg0{i}=gg0{i}.subs(gg0{i}{k},0)\")           \n",
    "    exec(f\"gg0{i}=gg0{i}.subs(gg0{i}1,0)\")\n",
    "for i in range(1,4):\n",
    "    for j in range(i,4):\n",
    "        for k in range(1,orden,2):\n",
    "            exec(f\"gg{i}{j}=gg{i}{j}.subs(gg{i}{j}{k},0)\")           \n",
    "for k in range(1,orden_par-1,2):\n",
    "    exec(f\"gg00=gg00.subs(gg00{k},0)\")    \n",
    "    \n",
    "\n",
    "\n",
    "\n",
    "\n",
    "#Definición de ciertas funciones útiles para usos posteriores\n",
    "def cortar_orden(expr,orden=4):\n",
    "    coef=zeros(1,orden+1)\n",
    "    expresion=0\n",
    "    for i in range(orden+1):\n",
    "        coef[i]=expr.expand().coeff(e,i)\n",
    "        expresion+=coef[i]*e**i\n",
    "    return expresion\n",
    "\n",
    "def dejar_orden(expr,orden=4):\n",
    "    return expr.expand().coeff(e,orden)\n",
    "\n",
    "def cortar_orden_matriz(matr,orden=4,dim=4):\n",
    "    m=zeros(dim)\n",
    "    for i in range(dim):\n",
    "        for j in range(dim):\n",
    "            m[i,j]=cortar_orden(matr[i,j],orden)\n",
    "    return m\n",
    "\n",
    "def dejar_orden_matriz(matr,orden=4,dim=4):\n",
    "    return cortar_orden_matriz(matr,orden+1,dim)-cortar_orden_matriz(matr,orden-1,dim)\n",
    "\n",
    "def sustituir_matriz(matr,simbolo,valor,dim=4):\n",
    "    m=copy(matr)\n",
    "    for i in range(dim):\n",
    "        for j in range(dim):\n",
    "            m[i,j]=m[i,j].subs(simbolo,valor)\n",
    "            \n",
    "    return m "
   ]
  },
  {
   "cell_type": "code",
   "execution_count": 7,
   "id": "26972545-a3f2-4212-9822-7a7e0597f52e",
   "metadata": {},
   "outputs": [
    {
     "data": {
      "text/latex": [
       "$\\displaystyle e^{4} g^{114} + e^{2} g^{112} + 1$"
      ],
      "text/plain": [
       "e**4*g^114 + e**2*g^112 + 1"
      ]
     },
     "execution_count": 7,
     "metadata": {},
     "output_type": "execute_result"
    }
   ],
   "source": [
    "gg11"
   ]
  },
  {
   "cell_type": "code",
   "execution_count": 8,
   "id": "65c9f8cc-6592-42f0-9a75-8626d0b2f0da",
   "metadata": {},
   "outputs": [
    {
     "data": {
      "text/latex": [
       "$\\displaystyle \\left[\\begin{matrix}e^{4} g^{004} + e^{2} g^{002} - \\frac{1}{c^{2}} & e^{4} g^{014} + e^{3} g^{013} & e^{4} g^{024} + e^{3} g^{023} & e^{4} g^{034} + e^{3} g^{033}\\\\e^{4} g^{014} + e^{3} g^{013} & e^{4} g^{114} + e^{2} g^{112} + 1 & e^{4} g^{124} + e^{2} g^{122} & e^{4} g^{134} + e^{2} g^{132}\\\\e^{4} g^{024} + e^{3} g^{023} & e^{4} g^{124} + e^{2} g^{122} & e^{4} g^{224} + e^{2} g^{222} + \\frac{1}{r^{2}} & e^{4} g^{234} + e^{2} g^{232}\\\\e^{4} g^{034} + e^{3} g^{033} & e^{4} g^{134} + e^{2} g^{132} & e^{4} g^{234} + e^{2} g^{232} & e^{4} g^{334} + e^{2} g^{332} + \\frac{1}{r^{2} \\sin^{2}{\\left(\\theta \\right)}}\\end{matrix}\\right]$"
      ],
      "text/plain": [
       "Matrix([\n",
       "[e**4*g^004 + e**2*g^002 - 1/c**2,     e**4*g^014 + e**3*g^013,           e**4*g^024 + e**3*g^023,                          e**4*g^034 + e**3*g^033],\n",
       "[         e**4*g^014 + e**3*g^013, e**4*g^114 + e**2*g^112 + 1,           e**4*g^124 + e**2*g^122,                          e**4*g^134 + e**2*g^132],\n",
       "[         e**4*g^024 + e**3*g^023,     e**4*g^124 + e**2*g^122, e**4*g^224 + e**2*g^222 + r**(-2),                          e**4*g^234 + e**2*g^232],\n",
       "[         e**4*g^034 + e**3*g^033,     e**4*g^134 + e**2*g^132,           e**4*g^234 + e**2*g^232, e**4*g^334 + e**2*g^332 + 1/(r**2*sin(theta)**2)]])"
      ]
     },
     "execution_count": 8,
     "metadata": {},
     "output_type": "execute_result"
    }
   ],
   "source": [
    "#Definimos la matriz inversa\n",
    "Ginv=zeros(4)\n",
    "for ii in range(4):\n",
    "    for jj in range(ii,4):\n",
    "        exec(f\"Ginv[{ii},{jj}]=gg{ii}{jj}\")\n",
    "for ii in range(4):\n",
    "    for jj in range(0,ii):\n",
    "        exec(f\"Ginv[{ii},{jj}]=gg{jj}{ii}\")\n",
    "        \n",
    "Ginv"
   ]
  },
  {
   "cell_type": "code",
   "execution_count": 10,
   "id": "6846a276-8f72-4456-9dbe-e4b7ea3c9299",
   "metadata": {},
   "outputs": [
    {
     "data": {
      "text/latex": [
       "$\\displaystyle \\left[\\begin{matrix}- \\frac{1}{c^{2}} - \\frac{e^{2} g^{2}_{00}}{c^{4}} + \\frac{e^{4} \\left(- c^{2} g^{4}_{00} - \\left(g^{2}_{00}\\right)^{2}\\right)}{c^{6}} & \\frac{e^{3} g^{3}_{01}}{c^{2}} & \\frac{e^{3} g^{3}_{02}}{c^{2} r^{2}} & \\frac{e^{3} g^{3}_{03}}{c^{2} r^{2} \\sin^{2}{\\left(\\theta \\right)}}\\\\\\frac{e^{3} g^{3}_{01}}{c^{2}} & e^{4} \\left(\\left(g^{2}_{11}\\right)^{2} + \\frac{\\left(g^{2}_{12}\\right)^{2}}{r^{2}} + \\frac{\\left(g^{2}_{13}\\right)^{2}}{r^{2} \\sin^{2}{\\left(\\theta \\right)}} - g^{4}_{11}\\right) - e^{2} g^{2}_{11} + 1 & \\frac{e^{4} \\left(g^{2}_{12} g^{2}_{22} + r^{2} \\left(g^{2}_{11} g^{2}_{12} + \\frac{g^{2}_{13} g^{2}_{23}}{r^{2} \\sin^{2}{\\left(\\theta \\right)}} - g^{4}_{12}\\right)\\right)}{r^{4}} - \\frac{e^{2} g^{2}_{12}}{r^{2}} & \\frac{e^{4} \\left(g^{2}_{11} g^{2}_{13} r^{2} + g^{2}_{12} g^{2}_{23} + \\frac{g^{2}_{13} g^{2}_{33}}{\\sin^{2}{\\left(\\theta \\right)}} - g^{4}_{13} r^{2}\\right)}{r^{4} \\sin^{2}{\\left(\\theta \\right)}} - \\frac{e^{2} g^{2}_{13}}{r^{2} \\sin^{2}{\\left(\\theta \\right)}}\\\\\\frac{e^{3} g^{3}_{02}}{c^{2} r^{2}} & \\frac{e^{4} \\left(g^{2}_{12} g^{2}_{22} + r^{2} \\left(g^{2}_{11} g^{2}_{12} + \\frac{g^{2}_{13} g^{2}_{23}}{r^{2} \\sin^{2}{\\left(\\theta \\right)}} - g^{4}_{12}\\right)\\right)}{r^{4}} - \\frac{e^{2} g^{2}_{12}}{r^{2}} & \\frac{e^{4} \\left(\\left(g^{2}_{22}\\right)^{2} + \\frac{\\left(g^{2}_{23}\\right)^{2}}{\\sin^{2}{\\left(\\theta \\right)}} + r^{2} \\left(\\left(g^{2}_{12}\\right)^{2} - g^{4}_{22}\\right)\\right)}{r^{6}} - \\frac{e^{2} g^{2}_{22}}{r^{4}} + \\frac{1}{r^{2}} & \\frac{e^{4} \\left(g^{2}_{12} g^{2}_{13} r^{2} + g^{2}_{22} g^{2}_{23} + \\frac{g^{2}_{23} g^{2}_{33}}{\\sin^{2}{\\left(\\theta \\right)}} - g^{4}_{23} r^{2}\\right)}{r^{6} \\sin^{2}{\\left(\\theta \\right)}} - \\frac{e^{2} g^{2}_{23}}{r^{4} \\sin^{2}{\\left(\\theta \\right)}}\\\\\\frac{e^{3} g^{3}_{03}}{c^{2} r^{2} \\sin^{2}{\\left(\\theta \\right)}} & \\frac{e^{4} \\left(g^{2}_{11} g^{2}_{13} r^{2} + g^{2}_{12} g^{2}_{23} + \\frac{g^{2}_{13} g^{2}_{33}}{\\sin^{2}{\\left(\\theta \\right)}} - g^{4}_{13} r^{2}\\right)}{r^{4} \\sin^{2}{\\left(\\theta \\right)}} - \\frac{e^{2} g^{2}_{13}}{r^{2} \\sin^{2}{\\left(\\theta \\right)}} & \\frac{e^{4} \\left(g^{2}_{12} g^{2}_{13} r^{2} + g^{2}_{22} g^{2}_{23} + \\frac{g^{2}_{23} g^{2}_{33}}{\\sin^{2}{\\left(\\theta \\right)}} - g^{4}_{23} r^{2}\\right)}{r^{6} \\sin^{2}{\\left(\\theta \\right)}} - \\frac{e^{2} g^{2}_{23}}{r^{4} \\sin^{2}{\\left(\\theta \\right)}} & \\frac{e^{4} \\left(\\left(g^{2}_{13}\\right)^{2} r^{2} + \\left(g^{2}_{23}\\right)^{2} + \\frac{\\left(g^{2}_{33}\\right)^{2}}{\\sin^{2}{\\left(\\theta \\right)}} - g^{4}_{33} r^{2}\\right)}{r^{6} \\sin^{4}{\\left(\\theta \\right)}} - \\frac{e^{2} g^{2}_{33}}{r^{4} \\sin^{4}{\\left(\\theta \\right)}} + \\frac{1}{r^{2} \\sin^{2}{\\left(\\theta \\right)}}\\end{matrix}\\right]$"
      ],
      "text/plain": [
       "Matrix([\n",
       "[-1/c**2 - e**2*g^2_00/c**4 + e**4*(-c**2*g^4_00 - g^2_00**2)/c**6,                                                                                                                              e**3*g^3_01/c**2,                                                                                                                       e**3*g^3_02/(c**2*r**2),                                                                                                                      e**3*g^3_03/(c**2*r**2*sin(theta)**2)],\n",
       "[                                                 e**3*g^3_01/c**2,                                                 e**4*(g^2_11**2 + g^2_12**2/r**2 + g^2_13**2/(r**2*sin(theta)**2) - g^4_11) - e**2*g^2_11 + 1,                             e**4*(g^2_12*g^2_22 + r**2*(g^2_11*g^2_12 + g^2_13*g^2_23/(r**2*sin(theta)**2) - g^4_12))/r**4 - e**2*g^2_12/r**2,              e**4*(g^2_11*g^2_13*r**2 + g^2_12*g^2_23 + g^2_13*g^2_33/sin(theta)**2 - g^4_13*r**2)/(r**4*sin(theta)**2) - e**2*g^2_13/(r**2*sin(theta)**2)],\n",
       "[                                          e**3*g^3_02/(c**2*r**2),                             e**4*(g^2_12*g^2_22 + r**2*(g^2_11*g^2_12 + g^2_13*g^2_23/(r**2*sin(theta)**2) - g^4_12))/r**4 - e**2*g^2_12/r**2,                                      e**4*(g^2_22**2 + g^2_23**2/sin(theta)**2 + r**2*(g^2_12**2 - g^4_22))/r**6 - e**2*g^2_22/r**4 + r**(-2),              e**4*(g^2_12*g^2_13*r**2 + g^2_22*g^2_23 + g^2_23*g^2_33/sin(theta)**2 - g^4_23*r**2)/(r**6*sin(theta)**2) - e**2*g^2_23/(r**4*sin(theta)**2)],\n",
       "[                            e**3*g^3_03/(c**2*r**2*sin(theta)**2), e**4*(g^2_11*g^2_13*r**2 + g^2_12*g^2_23 + g^2_13*g^2_33/sin(theta)**2 - g^4_13*r**2)/(r**4*sin(theta)**2) - e**2*g^2_13/(r**2*sin(theta)**2), e**4*(g^2_12*g^2_13*r**2 + g^2_22*g^2_23 + g^2_23*g^2_33/sin(theta)**2 - g^4_23*r**2)/(r**6*sin(theta)**2) - e**2*g^2_23/(r**4*sin(theta)**2), e**4*(g^2_13**2*r**2 + g^2_23**2 + g^2_33**2/sin(theta)**2 - g^4_33*r**2)/(r**6*sin(theta)**4) - e**2*g^2_33/(r**4*sin(theta)**4) + 1/(r**2*sin(theta)**2)]])"
      ]
     },
     "execution_count": 10,
     "metadata": {},
     "output_type": "execute_result"
    }
   ],
   "source": [
    "##Con las ecuaciones obtenidas en I1, resolvemos el sistema y sustituimos los terminos de Ginv en función de los de G, obteniendo Ginv2\n",
    "Ginv2=zeros(4)\n",
    "I1=Ginv*G\n",
    "I1=cortar_orden_matriz(I1.expand(),orden-1)-I2\n",
    "espacio=\" /  \"\n",
    "for i in range(4):\n",
    "    for j in range(i,4):\n",
    "        for k in range(1,orden):\n",
    "            for k2 in range(1,orden):\n",
    "               \n",
    "                exec(f\"cond=(len(solve((I1[{i},{j}]).coeff(e,{k2}),gg{i}{j}{k}))>0)\")\n",
    "               \n",
    "                if cond:\n",
    "                    exec(f\"h{i}{j}{k}=solve((I1[{i},{j}]).coeff(e,{k2}),gg{i}{j}{k})[0]\")  ##Resolvemos las ecuaciones                \n",
    "                    for iii in range(4):\n",
    "                        for jjj in range(iii,4):\n",
    "                            exec(f\"gg{iii}{jjj}=gg{iii}{jjj}.subs(gg{i}{j}{k},h{i}{j}{k})\") ##Sustituimos la solución \n",
    "                                                                                            ##en todos los términos de gg\n",
    "                                \n",
    "                            exec(f\"I1[{iii},{jjj}]=I1[{iii},{jjj}].subs(gg{i}{j}{k},h{i}{j}{k})\") ##Sustituimos la solución en \n",
    "                                                                                                  ##todos los términos de I1\n",
    "             \n",
    "\n",
    "            \n",
    "##Una vez resuelto el sistema, solo queda igualar término a término la matriz resultante\n",
    "for ii in range(4):\n",
    "    for jj in range(ii,4):\n",
    "        exec(f\"Ginv2[{ii},{jj}]=gg{ii}{jj}\")\n",
    "for ii in range(4):\n",
    "    for jj in range(0,ii):\n",
    "        exec(f\"Ginv2[{ii},{jj}]=gg{jj}{ii}\")\n",
    "       \n",
    "Ginv2\n"
   ]
  },
  {
   "cell_type": "code",
   "execution_count": 13,
   "id": "ba448413-6db2-4ee1-ba01-ba8067f69f9b",
   "metadata": {},
   "outputs": [
    {
     "data": {
      "text/latex": [
       "$\\displaystyle \\left[\\begin{matrix}- \\frac{1}{c^{2}} - \\frac{2 e^{2}}{c^{4} r} - \\frac{4 e^{4}}{c^{6} r^{2}} & 0 & 0 & 0\\\\0 & 1 - \\frac{2 e^{2}}{c^{2} r} & 0 & 0\\\\0 & 0 & \\frac{1}{r^{2}} & 0\\\\0 & 0 & 0 & \\frac{1}{r^{2} \\sin^{2}{\\left(\\theta \\right)}}\\end{matrix}\\right]$"
      ],
      "text/plain": [
       "Matrix([\n",
       "[-1/c**2 - 2*e**2/(c**4*r) - 4*e**4/(c**6*r**2),                   0,       0,                      0],\n",
       "[                                             0, 1 - 2*e**2/(c**2*r),       0,                      0],\n",
       "[                                             0,                   0, r**(-2),                      0],\n",
       "[                                             0,                   0,       0, 1/(r**2*sin(theta)**2)]])"
      ]
     },
     "execution_count": 13,
     "metadata": {},
     "output_type": "execute_result"
    }
   ],
   "source": [
    "#Sustitución de los símbolos por funciones\n",
    "\n",
    "Ginv3=copy.deepcopy(Ginv2)               \n",
    "for i in range(4):\n",
    "    for j in range(4):\n",
    "        for k in range(2,orden):\n",
    "            exec(f\"Ginv3=Ginv3.subs(g{i}{j}{k},g{i}{j}r{k})\")\n",
    "Ginv3"
   ]
  },
  {
   "cell_type": "code",
   "execution_count": 16,
   "id": "ce602285-0e07-4bec-aaa8-0305ab76d816",
   "metadata": {},
   "outputs": [
    {
     "name": "stdout",
     "output_type": "stream",
     "text": [
      "T 0 0 0 = 0\n",
      "T 0 0 1 = 1.0*e**2/(c**2*r**2) + 2.0*e**4/(c**4*r**3)\n",
      "T 0 0 2 = 0\n",
      "T 0 0 3 = 0\n",
      "T 0 1 0 = 1.0*e**2/(c**2*r**2) + 2.0*e**4/(c**4*r**3)\n",
      "T 0 1 1 = 0\n",
      "T 0 1 2 = 0\n",
      "T 0 1 3 = 0\n",
      "T 0 2 0 = 0\n",
      "T 0 2 1 = 0\n",
      "T 0 2 2 = 0\n",
      "T 0 2 3 = 0\n",
      "T 0 3 0 = 0\n",
      "T 0 3 1 = 0\n",
      "T 0 3 2 = 0\n",
      "T 0 3 3 = 0\n",
      "T 1 0 0 = 1.0*e**2/r**2 - 2.0*e**4/(c**2*r**3)\n",
      "T 1 0 1 = 0\n",
      "T 1 0 2 = 0\n",
      "T 1 0 3 = 0\n",
      "T 1 1 0 = 0\n",
      "T 1 1 1 = -1.0*e**2/(c**2*r**2) - 2.0*e**4/(c**4*r**3)\n",
      "T 1 1 2 = 0\n",
      "T 1 1 3 = 0\n",
      "T 1 2 0 = 0\n",
      "T 1 2 1 = 0\n",
      "T 1 2 2 = -1.0*r + 2.0*e**2/c**2\n",
      "T 1 2 3 = 0\n",
      "T 1 3 0 = 0\n",
      "T 1 3 1 = 0\n",
      "T 1 3 2 = 0\n",
      "T 1 3 3 = -1.0*r*sin(theta)**2 + 2.0*e**2*sin(theta)**2/c**2\n",
      "T 2 0 0 = 0\n",
      "T 2 0 1 = 0\n",
      "T 2 0 2 = 0\n",
      "T 2 0 3 = 0\n",
      "T 2 1 0 = 0\n",
      "T 2 1 1 = 0\n",
      "T 2 1 2 = 1.0/r\n",
      "T 2 1 3 = 0\n",
      "T 2 2 0 = 0\n",
      "T 2 2 1 = 1.0/r\n",
      "T 2 2 2 = 0\n",
      "T 2 2 3 = 0\n",
      "T 2 3 0 = 0\n",
      "T 2 3 1 = 0\n",
      "T 2 3 2 = 0\n",
      "T 2 3 3 = -1.0*sin(theta)*cos(theta)\n",
      "T 3 0 0 = 0\n",
      "T 3 0 1 = 0\n",
      "T 3 0 2 = 0\n",
      "T 3 0 3 = 0\n",
      "T 3 1 0 = 0\n",
      "T 3 1 1 = 0\n",
      "T 3 1 2 = 0\n",
      "T 3 1 3 = 1.0/r\n",
      "T 3 2 0 = 0\n",
      "T 3 2 1 = 0\n",
      "T 3 2 2 = 0\n",
      "T 3 2 3 = 1.0*cos(theta)/sin(theta)\n",
      "T 3 3 0 = 0\n",
      "T 3 3 1 = 1.0/r\n",
      "T 3 3 2 = 1.0*cos(theta)/sin(theta)\n",
      "T 3 3 3 = 0\n"
     ]
    }
   ],
   "source": [
    "\n",
    "for i in range(4):\n",
    "    for j in range(4):\n",
    "        for k in range(j,4): \n",
    "            exec(f\"T{i}{j}{k}=symbols('\\Gamma^{i}_{j}{k}')\")\n",
    "            exec(f\"T{i}{j}{k}=0\")\n",
    "            for h in range(4):\n",
    "                exec(f\"T{i}{j}{k}+=0.5*Ginv3[{i},{h}]*(diff(SS[{h},{j}],coord_pol[{k}])+diff(SS[{h},{k}],coord_pol[{j}])-diff(SS[{j},{k}],coord_pol[{h}]))\")\n",
    "                     #d{k}G[{h},{j}]+d{j}G[{h},{k}]-d{h}g{j}{k})\")\n",
    "            exec(f\"T{i}{j}{k}=cortar_orden(T{i}{j}{k},orden)\")\n",
    "            \n",
    "            exec(f\"T{i}{k}{j}=T{i}{j}{k}\")\n",
    "            \n",
    "for i in range(4):\n",
    "    for j in range(4):\n",
    "        for k in range(4):\n",
    "            exec(f\"print('T',i,j,k,'=',T{i}{j}{k}.expand())\")\n",
    "            "
   ]
  },
  {
   "cell_type": "code",
   "execution_count": 17,
   "id": "6486716e-93b3-4770-a7dd-28a2a3a830c3",
   "metadata": {},
   "outputs": [],
   "source": [
    "\n",
    "for m in range(4):\n",
    "    for k in range(4):\n",
    "        exec(f\"R{m}{k}=symbols('R_{m}{k}')\")\n",
    "        exec(f\"R{m}{k}=0\")\n",
    "        for l in range(4):\n",
    "            exec(f\"R{m}{k}+=diff(T{l}{m}{l},coord_pol[{k}])-diff(T{l}{m}{k},coord_pol[{l}])\")\n",
    "                 #d{k}T{l}{m}{l}-d{l}T{l}{m}{k}\")\n",
    "            for n in range(4):\n",
    "                exec(f\"R{m}{k}+=T{n}{m}{l}*T{l}{k}{n}-T{n}{m}{k}*T{l}{n}{l}\")\n",
    "        exec(f\"R{m}{k}=cortar_orden(R{m}{k}.expand(),{orden}).collect(e)\")"
   ]
  },
  {
   "cell_type": "code",
   "execution_count": 20,
   "id": "f2855b4b-6962-4d95-9306-72722b5849f6",
   "metadata": {},
   "outputs": [],
   "source": [
    "for i in range(1,4):\n",
    "    exec(f\"a{i},v{i}=symbols('a{i},v{i}')\")\n",
    "for i in range(1,4):  \n",
    "    exec(f\"a{i}=-T{i}00+v{i}*T000*e\")\n",
    "\n",
    "    for j in range(1,4):\n",
    "        exec(f\"a{i}+=-2*T{i}0{j}*v{j}*e+2*T00{j}*v{j}*v{i}*e**2\")                     \n",
    "        for k in range(1,4):\n",
    "            exec(f\"a{i}+=-T{i}{j}{k}*v{j}*v{k}*e**2+v{i}*(T0{j}{k}*v{j}*v{k})*e**3\")\n",
    "            #print(a1.simplify())\n",
    "        exec(f\"a{+i}=cortar_orden(a{i},orden)\")"
   ]
  },
  {
   "cell_type": "code",
   "execution_count": 22,
   "id": "ca95f519-32bd-4d40-9608-ab40d1f3f89a",
   "metadata": {},
   "outputs": [],
   "source": [
    "def aceleraciones(v):\n",
    "    acel=zeros(1,3)\n",
    "\n",
    "\n",
    "    for i in range(1,4):\n",
    "        exec(f\"bb{i}=a{i}\")\n",
    "        for j in range(3):            \n",
    "            exec(f\"bb{i}=a{i}.subs(v{j+1},v[{j}+3])\")\n",
    "            exec(f\"bb{i}=bb{i}.subs(coord_pol[{j}+1],v[{j}])\")\n",
    "            exec(f\"print(bb{i},'   ',i)\")\n",
    "        exec(f\"acel[{i}-1]=bb{i}.subs(e,1)\")\n",
    "        exec(f\"acel[{i}-1]=acel[{i}-1].subs(c,1)\")\n",
    "        #exec(f\"acel.append(a{i}.subs(v0,v[3]).subs(v1,v[4]).subs(v2,v[5]).subs(x,v[0]).subs(x,v[1]).subs(x,v[2])\")\n",
    "    return acel"
   ]
  },
  {
   "cell_type": "code",
   "execution_count": 58,
   "id": "00bf95bc-29df-411e-a6f2-c6724d1135cc",
   "metadata": {},
   "outputs": [],
   "source": [
    "def df(y,t):\n",
    "\n",
    "    aa1=a1.subs(r,y0[0])\n",
    "    aa1=aa1.subs(theta,y0[1])\n",
    "    aa1=aa1.subs(phi,y0[2])\n",
    "    aa1=aa1.subs(v1,y0[3])\n",
    "    aa1=aa1.subs(v2,y0[4])\n",
    "    aa1=aa1.subs(v3,y0[5])\n",
    "    aa1=aa1.subs(e,1)\n",
    "    aa1=aa1.subs(c,3*10**8)\n",
    "\n",
    "    aa2=a2.subs(r,y0[0])\n",
    "    aa2=aa2.subs(theta,y0[1])\n",
    "    aa2=aa2.subs(phi,y0[2])\n",
    "    aa2=aa2.subs(v1,y0[3])\n",
    "    aa2=aa2.subs(v2,y0[4])\n",
    "    aa2=aa2.subs(v3,y0[5])\n",
    "    aa2=aa2.subs(e,1)\n",
    "    aa2=aa2.subs(c,3*10**8)\n",
    "\n",
    "    aa3=a3.subs(r,y0[0])\n",
    "    aa3=aa3.subs(theta,y0[1])\n",
    "    aa3=aa3.subs(phi,y0[2])\n",
    "    aa3=aa3.subs(v1,y0[3])\n",
    "    aa3=aa3.subs(v2,y0[4])\n",
    "    aa3=aa3.subs(v3,y0[5])\n",
    "    aa3=aa3.subs(e,1)\n",
    "    aa3=aa3.subs(c,3*10**8)\n",
    "   # print(aa1,aa2,aa3)\n",
    "\n",
    "    resultado=[y[3],y[4],y[5],aa1,aa2,aa3]\n",
    "    return resultado\n",
    "long=5000\n",
    "tt=np.linspace(0,105,long)\n",
    "y0=[5,1.0,1,0,0.05,0.1]\n",
    "#y0=[82000000000,1.0,1,0,0.00000025,0.0000002]\n",
    "#y0=[10,3.141592/2+0.1,0,0,0.0005,0.05]\n"
   ]
  },
  {
   "cell_type": "code",
   "execution_count": 61,
   "id": "c9b7bd09-00ce-4eb8-9794-db4f1a7fcfc1",
   "metadata": {},
   "outputs": [],
   "source": [
    "solucion=odeint(df,y0,tt)"
   ]
  },
  {
   "cell_type": "code",
   "execution_count": 62,
   "id": "e68e9684-a57f-4938-8101-fda04d3e7297",
   "metadata": {},
   "outputs": [
    {
     "data": {
      "text/plain": [
       "[<matplotlib.lines.Line2D at 0x2cf389425b0>]"
      ]
     },
     "execution_count": 62,
     "metadata": {},
     "output_type": "execute_result"
    },
    {
     "data": {
      "image/png": "[encoded data removed]",
      "text/plain": [
       "<Figure size 432x288 with 1 Axes>"
      ]
     },
     "metadata": {
      "needs_background": "light"
     },
     "output_type": "display_data"
    }
   ],
   "source": [
    "sol=solucion[:,0]\n",
    "plt.plot(tt,sol)"
   ]
  },
  {
   "cell_type": "code",
   "execution_count": 63,
   "id": "2d50105b-7697-46d5-80a1-a92f2c213b72",
   "metadata": {},
   "outputs": [],
   "source": [
    "theta_n=solucion[:,1]\n",
    "phi_n=solucion[:,2]\n",
    "r_n=solucion[:,0]\n",
    "X = r_n * np.sin(theta_n) * np.cos(theta_n)\n",
    "Y = r_n * np.sin(phi_n) * np.sin(theta_n)\n",
    "Z = r_n * np.cos(phi_n)\n",
    "\n",
    "theta_ss=np.arange(0,2*np.pi,0.01)\n",
    "phi_ss=np.arange(0,np.pi,0.01)\n",
    "\n",
    "theta_s,phi_s=np.meshgrid(theta_ss,phi_ss)\n",
    "rr=2\n",
    "XX=rr*np.sin(phi_s)*np.cos(theta_s)\n",
    "YY=rr*np.sin(phi_s)*np.sin(theta_s)\n",
    "ZZ=rr*np.cos(phi_s)"
   ]
  },
  {
   "cell_type": "code",
   "execution_count": 64,
   "id": "034a5d55-50d9-4a4e-a808-a87c9d5b4a0d",
   "metadata": {},
   "outputs": [
    {
     "data": {
      "image/png": "[encoded data removed]",
      "text/plain": [
       "<Figure size 432x288 with 1 Axes>"
      ]
     },
     "metadata": {
      "needs_background": "light"
     },
     "output_type": "display_data"
    }
   ],
   "source": [
    "fig=plt.figure()\n",
    "#ax = fig.add_subplot(111)\n",
    "ax = fig.add_subplot(111, projection='3d')\n",
    "ax.plot_surface(XX,YY,ZZ)\n",
    "plt.plot(X,Y,Z)\n",
    "\n",
    "plt.show()"
   ]
  },
  {
   "cell_type": "code",
   "execution_count": 30,
   "id": "7fa3a415-6246-4bfc-bf88-7fa1f497bd57",
   "metadata": {},
   "outputs": [
    {
     "data": {
      "text/plain": [
       "[<matplotlib.lines.Line2D at 0x2cf374d1f10>]"
      ]
     },
     "execution_count": 30,
     "metadata": {},
     "output_type": "execute_result"
    },
    {
     "data": {
      "image/png": "[encoded data removed]",
      "text/plain": [
       "<Figure size 432x288 with 1 Axes>"
      ]
     },
     "metadata": {
      "needs_background": "light"
     },
     "output_type": "display_data"
    }
   ],
   "source": [
    "plt.plot(tt,r_n)"
   ]
  }
 ],
 "metadata": {
  "kernelspec": {
   "display_name": "Python 3 (ipykernel)",
   "language": "python",
   "name": "python3"
  },
  "language_info": {
   "codemirror_mode": {
    "name": "ipython",
    "version": 3
   },
   "file_extension": ".py",
   "mimetype": "text/x-python",
   "name": "python",
   "nbconvert_exporter": "python",
   "pygments_lexer": "ipython3",
   "version": "3.8.5"
  }
 },
 "nbformat": 4,
 "nbformat_minor": 5
}
